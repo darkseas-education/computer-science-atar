{
 "cells": [
  {
   "cell_type": "markdown",
   "id": "0fcbc2ba-a1e3-477a-aaa3-4a9bb1baafca",
   "metadata": {},
   "source": [
    "# TOC Generation\n",
    "\n"
   ]
  },
  {
   "cell_type": "code",
   "execution_count": 7,
   "id": "76af96cd-042e-45dd-86f4-b40a5c1d5924",
   "metadata": {},
   "outputs": [],
   "source": [
    "import yaml\n",
    "from yaml import load, dump\n",
    "try:\n",
    "    from yaml import CLoader as Loader, CDumper as Dumper\n",
    "except ImportError:\n",
    "    from yaml import Loader, Dumper"
   ]
  },
  {
   "cell_type": "code",
   "execution_count": 4,
   "id": "65e41e90-2c19-4a42-baf7-bb946b23e540",
   "metadata": {},
   "outputs": [],
   "source": [
    "fn = \"y12-syllabus-abb\""
   ]
  },
  {
   "cell_type": "code",
   "execution_count": 9,
   "id": "d5148a96-9d63-4ff6-8362-a9520df17a94",
   "metadata": {},
   "outputs": [],
   "source": [
    "toc_str = \"\"\"\n",
    "format: jb-book\n",
    "root: index\n",
    "parts:\n",
    "  - caption: The course and its tools\n",
    "    chapters:\n",
    "    - file: setup/00_index\n",
    "      sections:\n",
    "      - file: setup/01_syllabus\n",
    "      - file: setup/10_installation\n",
    "      - file: setup/20_communication\n",
    "      - file: setup/30_assessment\n",
    "  - caption: Networks\n",
    "    chapters:\n",
    "    - file: networks/00_index\n",
    "      sections:\n",
    "      - file: networks/10_models\n",
    "      - file: networks/20_components\n",
    "      - file: networks/30_performance\n",
    "\n",
    "  - caption: Data management\n",
    "    chapters:\n",
    "    - file: databases/data-management\n",
    "      sections:\n",
    "      - file: databases/dbms/00-index\n",
    "      - file: databases/dbms/01-data-information.md\n",
    "      - file: databases/dbms/02-flat-relational.md\n",
    "      - file: databases/dbms/03-rdbms.md\n",
    "    - file: databases/concepts/00-index.md\n",
    "      sections:\n",
    "      - file: databases/concepts/10-organisation\n",
    "      - file: databases/concepts/11-datatypes\n",
    "      - file: databases/concepts/12-hierarchy\n",
    "      - file: databases/concepts/13-relationships\n",
    "      - file: databases/concepts/20-primary-foreign-keys.md\n",
    "      - file: databases/concepts/30-composite-keys.md\n",
    "      - file: databases/concepts/40-data-anomalies.md\n",
    "\"\"\""
   ]
  },
  {
   "cell_type": "code",
   "execution_count": 10,
   "id": "7048ba36-6c21-4958-b73b-d7f05c34ba8d",
   "metadata": {},
   "outputs": [
    {
     "data": {
      "text/plain": [
       "{'format': 'jb-book',\n",
       " 'root': 'index',\n",
       " 'parts': [{'caption': 'The course and its tools',\n",
       "   'chapters': [{'file': 'setup/00_index',\n",
       "     'sections': [{'file': 'setup/01_syllabus'},\n",
       "      {'file': 'setup/10_installation'},\n",
       "      {'file': 'setup/20_communication'},\n",
       "      {'file': 'setup/30_assessment'}]}]},\n",
       "  {'caption': 'Networks',\n",
       "   'chapters': [{'file': 'networks/00_index',\n",
       "     'sections': [{'file': 'networks/10_models'},\n",
       "      {'file': 'networks/20_components'},\n",
       "      {'file': 'networks/30_performance'}]}]},\n",
       "  {'caption': 'Data management',\n",
       "   'chapters': [{'file': 'databases/data-management',\n",
       "     'sections': [{'file': 'databases/dbms/00-index'},\n",
       "      {'file': 'databases/dbms/01-data-information.md'},\n",
       "      {'file': 'databases/dbms/02-flat-relational.md'},\n",
       "      {'file': 'databases/dbms/03-rdbms.md'}]},\n",
       "    {'file': 'databases/concepts/00-index.md',\n",
       "     'sections': [{'file': 'databases/concepts/10-organisation'},\n",
       "      {'file': 'databases/concepts/11-datatypes'},\n",
       "      {'file': 'databases/concepts/12-hierarchy'},\n",
       "      {'file': 'databases/concepts/13-relationships'},\n",
       "      {'file': 'databases/concepts/20-primary-foreign-keys.md'},\n",
       "      {'file': 'databases/concepts/30-composite-keys.md'},\n",
       "      {'file': 'databases/concepts/40-data-anomalies.md'}]}]}]}"
      ]
     },
     "execution_count": 10,
     "metadata": {},
     "output_type": "execute_result"
    }
   ],
   "source": [
    "toc = load(toc_str, Loader)\n",
    "toc"
   ]
  },
  {
   "cell_type": "code",
   "execution_count": 11,
   "id": "97772a0c-0fbf-412b-b7b5-c4dfb4fa6690",
   "metadata": {},
   "outputs": [
    {
     "data": {
      "text/plain": [
       "dict"
      ]
     },
     "execution_count": 11,
     "metadata": {},
     "output_type": "execute_result"
    }
   ],
   "source": [
    "type(toc)"
   ]
  },
  {
   "cell_type": "code",
   "execution_count": 14,
   "id": "1b0c3650-cd29-4efa-a6c6-99d6357a6e07",
   "metadata": {},
   "outputs": [
    {
     "data": {
      "text/plain": [
       "{'parts': [{'caption': 'The course and its tools',\n",
       "   'chapters': [{'file': 'setup/00_index',\n",
       "     'sections': [{'file': 'setup/01_syllabus'}]}]}]}"
      ]
     },
     "execution_count": 14,
     "metadata": {},
     "output_type": "execute_result"
    }
   ],
   "source": [
    "t1_str = \"\"\"\n",
    "parts:\n",
    "  - caption: The course and its tools\n",
    "    chapters:\n",
    "    - file: setup/00_index\n",
    "      sections:\n",
    "      - file: setup/01_syllabus\n",
    "\"\"\"\n",
    "t1 = load(t1_str, Loader)\n",
    "t1"
   ]
  },
  {
   "cell_type": "code",
   "execution_count": 16,
   "id": "78b43684-b8f0-4c3e-9440-51f01c809900",
   "metadata": {},
   "outputs": [
    {
     "data": {
      "text/plain": [
       "list"
      ]
     },
     "execution_count": 16,
     "metadata": {},
     "output_type": "execute_result"
    }
   ],
   "source": [
    "type(t1['parts']) # Parts is a list of parts"
   ]
  },
  {
   "cell_type": "code",
   "execution_count": 19,
   "id": "d31476cf-0da4-4173-b151-06f062f850d7",
   "metadata": {},
   "outputs": [
    {
     "data": {
      "text/plain": [
       "{'parts': [{'caption': 'The course and its tools',\n",
       "   'chapters': [{'file': 'setup/00_index',\n",
       "     'sections': [{'file': 'setup/01_syllabus'}]}]}]}"
      ]
     },
     "execution_count": 19,
     "metadata": {},
     "output_type": "execute_result"
    }
   ],
   "source": [
    "t1"
   ]
  },
  {
   "cell_type": "markdown",
   "id": "f0e99b64-e85d-4dc7-b862-c75ea2df489f",
   "metadata": {},
   "source": [
    "Each part has a caption and a list of chapters"
   ]
  },
  {
   "cell_type": "code",
   "execution_count": 18,
   "id": "3b781caf-d440-4ed6-9a89-4aac308a4abd",
   "metadata": {},
   "outputs": [
    {
     "data": {
      "text/plain": [
       "dict_keys(['caption', 'chapters'])"
      ]
     },
     "execution_count": 18,
     "metadata": {},
     "output_type": "execute_result"
    }
   ],
   "source": [
    "t1['parts'][0].keys()"
   ]
  },
  {
   "cell_type": "markdown",
   "id": "e4b8a7c7-92ee-4a5a-b649-ae73f2799fea",
   "metadata": {},
   "source": [
    "Each chapter has a file and a list of sections."
   ]
  },
  {
   "cell_type": "code",
   "execution_count": 20,
   "id": "9f1a28c9-bc72-4916-a806-51c3c3f00baa",
   "metadata": {},
   "outputs": [
    {
     "data": {
      "text/plain": [
       "dict_keys(['file', 'sections'])"
      ]
     },
     "execution_count": 20,
     "metadata": {},
     "output_type": "execute_result"
    }
   ],
   "source": [
    "t1['parts'][0]['chapters'][0].keys()"
   ]
  },
  {
   "cell_type": "markdown",
   "id": "bb904803-e3e9-498e-8776-4d89f3b514ba",
   "metadata": {},
   "source": [
    "Each section has a list of files.\n",
    "\n",
    "The syllabus-abbrev begins\n",
    "\n",
    "    Unit 3 - Programming\n",
    "    Programming skills and concepts - Knowledge\n",
    "    *  program control structures, including:\n",
    "    **  sequence\n",
    "    **  selection\n",
    "    **  iteration\n",
    "    ***  post-test\n",
    "    ***  pre-test\n",
    "    *  characteristics of data types used in solutions, including:\n",
    "    **  integer\n",
    "    **  float\n",
    "    **  string\n",
    "    **  Boolean\n",
    "    *  modular coding using functions, parameters and arguments\n",
    "    *  scope of variables (Global, Local)\n",
    "    *  characteristics of the following data structures:\n",
    "    **  arrays\n",
    "    ***  one-dimensional arrays\n",
    "    ***  two-dimensional arrays\n",
    "    **  dictionaries\n",
    "\n",
    "\n",
    "Which we might read as\n",
    "\n",
    "Part :: Programming\n",
    "Chapter :: Programming skills and concepts - Knowledge\n",
    "Section :: program control structures\n",
    "Files :: Sequence, selection, iteration and so on.\n"
   ]
  },
  {
   "cell_type": "code",
   "execution_count": 112,
   "id": "4048d865-7501-4fb4-9459-7c4b7c581a0e",
   "metadata": {},
   "outputs": [],
   "source": [
    "def is_part(s):\n",
    "    return 'Unit' in s\n",
    "\n",
    "def is_chapter(s):\n",
    "    return 'Skills' in s or 'Knowledge' in s\n",
    "\n",
    "def is_section(s):\n",
    "    return s.startswith('* ')\n",
    "\n",
    "def is_page(s):\n",
    "    return s.startswith('** ')\n",
    "\n",
    "def is_heading(s):\n",
    "    return s.startswith('*** ')\n",
    "\n",
    "def strip(s):\n",
    "    \"\"\"Remove lead markings and newlines\"\"\"\n",
    "    \n",
    "    \n",
    "def label(line):\n",
    "    if is_part(line):\n",
    "        _label = 'part'\n",
    "        _line = line.strip()\n",
    "    elif is_chapter(line):\n",
    "        _label = 'chapter'\n",
    "        _line = line.strip()\n",
    "    elif is_section(line):\n",
    "        _label = 'section'\n",
    "        _line = line[3:].strip()\n",
    "    elif is_page(line):\n",
    "        _label = 'page'\n",
    "        _line = line[4:].strip()\n",
    "    elif is_heading(line):\n",
    "        _label = 'heading'\n",
    "        _line = line[5:].strip()\n",
    "    else:\n",
    "        _label = 'UNKNOWN'\n",
    "        _line = line\n",
    "    return _label, _line"
   ]
  },
  {
   "cell_type": "code",
   "execution_count": 113,
   "id": "aa0ed88f-5a3b-47e0-8232-15e65deece15",
   "metadata": {},
   "outputs": [],
   "source": [
    "s1 = 'Unit 3 - Programming\\n'\n",
    "s2 = 'Programming skills and concepts - Knowledge\\n'\n",
    "s3 = \"*  program control structures, including:\\n\"\n",
    "s4 = \"**  sequence\\n\"\n",
    "s5 = \"***  problem description\\n\"\n",
    "assert is_part(s1)\n",
    "assert not is_part(s2)\n",
    "\n",
    "assert is_chapter(s2)\n",
    "assert not is_chapter(s1)\n",
    "\n",
    "assert is_section(s3)\n",
    "assert not is_section(s4)\n",
    "\n",
    "assert is_page(s4)\n",
    "assert not is_page(s3)\n",
    "\n",
    "assert is_heading(s5)\n",
    "assert not is_heading(s4)"
   ]
  },
  {
   "cell_type": "code",
   "execution_count": 114,
   "id": "6c27a238-722a-4d89-9937-7ad2d6abc5a5",
   "metadata": {},
   "outputs": [
    {
     "data": {
      "text/plain": [
       "'Unit 3 - Programming'"
      ]
     },
     "execution_count": 114,
     "metadata": {},
     "output_type": "execute_result"
    }
   ],
   "source": [
    "s1.strip()"
   ]
  },
  {
   "cell_type": "code",
   "execution_count": 115,
   "id": "35467b66-fa37-48e0-af41-1d6d2773425b",
   "metadata": {},
   "outputs": [
    {
     "data": {
      "text/plain": [
       "'Programming skills and concepts - Knowledge'"
      ]
     },
     "execution_count": 115,
     "metadata": {},
     "output_type": "execute_result"
    }
   ],
   "source": [
    "s2.strip()"
   ]
  },
  {
   "cell_type": "code",
   "execution_count": 116,
   "id": "4876e269-2f75-4388-a798-187e3f0204e9",
   "metadata": {},
   "outputs": [
    {
     "data": {
      "text/plain": [
       "'program control structures, including:'"
      ]
     },
     "execution_count": 116,
     "metadata": {},
     "output_type": "execute_result"
    }
   ],
   "source": [
    "s3[3:].strip()"
   ]
  },
  {
   "cell_type": "code",
   "execution_count": 117,
   "id": "d1355e5b-35c3-4702-a83a-3527b9c643ad",
   "metadata": {},
   "outputs": [
    {
     "data": {
      "text/plain": [
       "'sequence'"
      ]
     },
     "execution_count": 117,
     "metadata": {},
     "output_type": "execute_result"
    }
   ],
   "source": [
    "s4[4:].strip()"
   ]
  },
  {
   "cell_type": "code",
   "execution_count": 118,
   "id": "126168d3-c193-4dad-9e36-20bd31c788f9",
   "metadata": {},
   "outputs": [
    {
     "data": {
      "text/plain": [
       "'problem description'"
      ]
     },
     "execution_count": 118,
     "metadata": {},
     "output_type": "execute_result"
    }
   ],
   "source": [
    "s5[5:].strip()"
   ]
  },
  {
   "cell_type": "code",
   "execution_count": 119,
   "id": "21b96f74-06f1-441e-bb07-0e7ea1ede65e",
   "metadata": {},
   "outputs": [],
   "source": [
    "short_toc_str = \"\"\"\\\n",
    "Unit 3 - Programming\n",
    "Programming skills and concepts - Knowledge\n",
    "*  program control structures, including:\n",
    "**  sequence\n",
    "**  selection\n",
    "**  iteration\n",
    "***  post-test\n",
    "***  pre-test\n",
    "*  characteristics of data types used in solutions, including:\n",
    "**  integer\n",
    "**  float\n",
    "**  string\n",
    "**  Boolean\n",
    "*  modular coding using functions, parameters and arguments\n",
    "*  scope of variables (Global, Local)\n",
    "*  characteristics of the following data structures:\n",
    "**  arrays\n",
    "***  one-dimensional arrays\n",
    "***  two-dimensional arrays\n",
    "**  dictionaries\"\"\""
   ]
  },
  {
   "cell_type": "code",
   "execution_count": 120,
   "id": "eadcb1db-1f59-43f9-9fc1-78efdc5ec118",
   "metadata": {},
   "outputs": [
    {
     "name": "stdout",
     "output_type": "stream",
     "text": [
      "('part', 'Unit 3 - Programming')\n",
      "('chapter', 'Programming skills and concepts - Knowledge')\n",
      "('section', 'program control structures, including:')\n",
      "('page', 'sequence')\n",
      "('page', 'selection')\n",
      "('page', 'iteration')\n",
      "('heading', 'post-test')\n",
      "('heading', 'pre-test')\n",
      "('section', 'characteristics of data types used in solutions, including:')\n",
      "('page', 'integer')\n",
      "('page', 'float')\n",
      "('page', 'string')\n",
      "('page', 'Boolean')\n",
      "('section', 'modular coding using functions, parameters and arguments')\n",
      "('section', 'scope of variables (Global, Local)')\n",
      "('section', 'characteristics of the following data structures:')\n",
      "('page', 'arrays')\n",
      "('heading', 'one-dimensional arrays')\n",
      "('heading', 'two-dimensional arrays')\n",
      "('page', 'dictionaries')\n"
     ]
    }
   ],
   "source": [
    "lines = short_toc_str.split(\"\\n\")\n",
    "for line in lines:\n",
    "    print(label(line))"
   ]
  },
  {
   "cell_type": "code",
   "execution_count": 121,
   "id": "789aeb7a-99de-4773-87f0-06c28503179b",
   "metadata": {},
   "outputs": [
    {
     "name": "stdout",
     "output_type": "stream",
     "text": [
      "('part', 'Unit 3 - Programming')\n",
      "('chapter', 'Programming skills and concepts - Knowledge')\n",
      "('section', 'program control structures, including:')\n",
      "('page', 'sequence')\n",
      "('page', 'selection')\n",
      "('page', 'iteration')\n",
      "('heading', 'post-test')\n",
      "('heading', 'pre-test')\n",
      "('section', 'characteristics of data types used in solutions, including:')\n",
      "('page', 'integer')\n",
      "('page', 'float')\n",
      "('page', 'string')\n",
      "('page', 'Boolean')\n",
      "('section', 'modular coding using functions, parameters and arguments')\n",
      "('section', 'scope of variables (Global, Local)')\n",
      "('section', 'characteristics of the following data structures:')\n",
      "('page', 'arrays')\n",
      "('heading', 'one-dimensional arrays')\n",
      "('heading', 'two-dimensional arrays')\n",
      "('page', 'dictionaries')\n",
      "('chapter', 'Programming skills and concepts - Skills')\n",
      "('section', 'apply, using pseudocode and a programming language, program control structures in solutions')\n",
      "('section', 'apply, using pseudocode and a programming language, data types used in solutions as variables')\n",
      "('section', 'apply, using pseudocode and a programming language, modular coding using functions, parameters and arguments')\n",
      "('section', 'use different types of operators')\n",
      "('page', 'arithmetic operators (+, -, *, /, %)')\n",
      "('page', 'relational operators (==, !=, >, =, <=)')\n",
      "('page', 'logical operators (AND, OR, NOT)')\n",
      "('section', 'reading and writing of complex logical expressions, including:')\n",
      "('page', 'Boolean operators (AND, OR, NOT)')\n",
      "('page', 'logical order of precedence')\n",
      "('section', 'apply, using pseudocode and a programming language, the following data structures:')\n",
      "('page', 'arrays')\n",
      "('heading', 'one-dimensional arrays')\n",
      "('heading', 'two-dimensional arrays')\n",
      "('page', 'dictionaries')\n",
      "('chapter', 'Good programming practice - Knowledge')\n",
      "('section', 'Framework for development')\n",
      "('page', 'investigate')\n",
      "('heading', 'problem description')\n",
      "('heading', 'define requirements')\n",
      "('heading', 'development schedule (including Gantt charts)')\n",
      "('page', 'design')\n",
      "('heading', 'design data structures')\n",
      "('heading', 'design and test algorithm')\n",
      "('page', 'develop')\n",
      "('heading', 'develop and debug code')\n",
      "('heading', 'unit testing and use of live data')\n",
      "('page', 'evaluate')\n",
      "('heading', 'user acceptance testing')\n",
      "('heading', 'developer retrospective')\n",
      "('section', 'compare common development processes')\n",
      "('page', 'linear')\n",
      "('page', 'iterative')\n",
      "('section', 'good programming practice, including:')\n",
      "('page', 'validate input before processing')\n",
      "('page', 'a clear and uncluttered mainline')\n",
      "('page', 'one logical task per subroutine')\n",
      "('page', 'use of stubs')\n",
      "('page', 'appropriate use of control structures and data structures')\n",
      "('page', 'writing for subsequent maintenance')\n",
      "('page', 'version control')\n",
      "('page', 'regular backup')\n",
      "('page', 'recognition of relevant social and ethical issues')\n",
      "('page', 'exception handling')\n",
      "('page', 'functions are able to return a single data structure or value')\n",
      "('chapter', 'Good programming practice - Skills')\n",
      "('section', 'apply common development processes')\n",
      "('section', 'apply good programming practice when developing a software solution, including:')\n",
      "('page', 'validate input before processing')\n",
      "('page', 'a clear and uncluttered mainline')\n",
      "('page', 'one logical task per subroutine')\n",
      "('page', 'use of stubs')\n",
      "('page', 'appropriate use of control structures and data structures')\n",
      "('page', 'writing for subsequent maintenance')\n",
      "('page', 'version control')\n",
      "('page', 'regular backup')\n",
      "('page', 'recognition of relevant social and ethical issues')\n",
      "('page', 'exception handling')\n",
      "('page', 'functions return a single data structure or value')\n",
      "('chapter', 'Structured algorithms - Knowledge')\n",
      "('section', 'effective structure of code')\n",
      "('page', 'use of a modular approach, including functions and classes')\n",
      "('page', 'use of stubs to represent incomplete modules')\n",
      "('page', 'parameter passing')\n",
      "('section', 'common algorithms')\n",
      "('page', 'Big O notation')\n",
      "('page', 'search algorithms')\n",
      "('heading', 'linear search')\n",
      "('heading', 'binary search')\n",
      "('page', 'sort algorithms')\n",
      "('heading', 'bubble sort')\n",
      "('heading', 'insertion sort')\n",
      "('heading', 'selection sort')\n",
      "('chapter', 'Structured algorithms - Skills')\n",
      "('section', 'use pseudocode and/or programming language for representing algorithms')\n",
      "('section', 'create code with effective structure')\n",
      "('page', 'use of a modular approach, including functions and classes')\n",
      "('page', 'parameter passing')\n",
      "('page', 'use of stubs to represent incomplete functions')\n",
      "('chapter', 'Testing - Knowledge')\n",
      "('section', 'acceptance testing of functional requirements based on user needs')\n",
      "('section', 'the use of live test data to ensure that testing accurately reflects the expected environment in which the new system will operate')\n",
      "('page', 'large file sizes')\n",
      "('page', 'mix of transaction types')\n",
      "('page', 'response times')\n",
      "('page', 'volume of data (load testing)')\n",
      "('section', 'validation of the solution with the design specifications')\n",
      "('section', 'generating relevant test data for complex solutions')\n",
      "('section', 'comparison of actual with expected output')\n",
      "('section', 'unit tests to ensure code performs correctly')\n",
      "('chapter', 'Testing - Skills')\n",
      "('section', 'comparison of the solution with the design specifications')\n",
      "('section', 'generating relevant test data for complex solutions')\n",
      "('section', 'comparison of actual with expected output')\n",
      "('chapter', 'Error detection and debugging code - Knowledge')\n",
      "('section', 'the process of detecting and correcting errors, including:')\n",
      "('page', 'types of error')\n",
      "('heading', 'syntax errors')\n",
      "('heading', 'logic errors')\n",
      "('heading', 'runtime errors, including:')\n",
      "('UNKNOWN', '**** arithmetic overflow\\n')\n",
      "('UNKNOWN', '**** division by zero\\n')\n",
      "('UNKNOWN', '**** index out of range\\n')\n",
      "('page', 'methods of error detection and correction')\n",
      "('heading', 'methodical approach to the isolation of logic errors')\n",
      "('heading', 'use of debugging techniques: -\\tbreakpoints -\\tprint statements')\n",
      "('heading', 'desk checking (trace tables)')\n",
      "('heading', 'comparison of actual with expected output')\n",
      "('chapter', 'Error detection and debugging code - Skills')\n",
      "('section', 'detecting and correcting errors, including:')\n",
      "('page', 'types of error')\n",
      "('heading', 'syntax errors')\n",
      "('heading', 'logic errors')\n",
      "('heading', 'runtime errors, including:')\n",
      "('UNKNOWN', '**** arithmetic overflow\\n')\n",
      "('UNKNOWN', '**** division by zero\\n')\n",
      "('UNKNOWN', '**** index out of range\\n')\n",
      "('page', 'methodical approach to the isolation of errors')\n",
      "('heading', 'use of debugging techniques')\n",
      "('heading', 'desk checking (trace tables)')\n",
      "('heading', 'comparison of actual with expected output')\n",
      "('chapter', 'Object-oriented programming - Knowledge')\n",
      "('section', 'characteristics of the following object-oriented concepts:')\n",
      "('page', 'classes')\n",
      "('page', 'objects')\n",
      "('page', 'attributes')\n",
      "('page', 'methods')\n",
      "('page', 'abstraction and polymorphism')\n",
      "('page', 'instantiation')\n",
      "('page', 'inheritance')\n",
      "('page', 'encapsulation')\n",
      "('chapter', 'Object-oriented programming - Skills')\n",
      "('section', 'apply, using pseudocode and programming language, object-oriented programming concepts, including:')\n",
      "('page', 'classes')\n",
      "('page', 'objects')\n",
      "('page', 'attributes')\n",
      "('page', 'methods/operations')\n",
      "('page', 'abstraction')\n",
      "('page', 'instantiation')\n",
      "('page', 'inheritance')\n",
      "('section', 'use an object-oriented programming language to:')\n",
      "('page', 'create classes and objects with attributes and methods')\n",
      "('page', 'instantiate objects')\n",
      "('page', 'use inheritance to extend classes')\n",
      "('page', 'use variables and control structures within objects')\n",
      "('chapter', 'Ethical and legal implications for developers of software - Knowledge')\n",
      "('section', 'impacts of software in society, including:')\n",
      "('page', 'computer malware, such as viruses')\n",
      "('page', 'reliance on software')\n",
      "('page', 'social networking')\n",
      "('page', 'cyber safety')\n",
      "('page', 'large volumes of information (which may be unsupported, unverifiable, misleading or incorrect) available through the internet')\n",
      "('section', 'rights and responsibilities of software developers')\n",
      "('page', 'acknowledging the intellectual property of others')\n",
      "('page', 'recognition by others of the developer’s intellectual property')\n",
      "('page', 'producing quality software solutions')\n",
      "('page', 'appropriately responding to user-identified problems')\n",
      "('page', 'adhering to code of conduct')\n",
      "('page', 'neither generating nor transmitting malware')\n",
      "('page', 'addressing ergonomic issues in software design')\n",
      "('page', 'ensuring software addresses inclusivity issues')\n",
      "('page', 'ensuring individuals’ privacy is not compromised')\n",
      "('section', 'concepts associated with piracy and copyright law in relation to software development in Australia')\n",
      "('part', 'Unit 3 - Network communications')\n",
      "('chapter', 'Models of networking - Knowledge')\n",
      "('section', 'comparison between the Open Systems Interconnection (OSI) Model and the Department of Defence (DoD) transmission control protocol/internet protocol (TCP/IP) model')\n",
      "('section', 'OSI model:')\n",
      "('page', 'purpose of OSI model')\n",
      "('page', 'layers of OSI model')\n",
      "('page', 'role of layers within the model')\n",
      "('page', 'MAC address layer 2 switching')\n",
      "('page', 'IP address layer 3 routing')\n",
      "('section', 'DoD TCP/IP model:')\n",
      "('page', 'purpose of DoD model')\n",
      "('page', 'layers of DoD model')\n",
      "('heading', 'application')\n",
      "('heading', 'transport')\n",
      "('heading', 'internet')\n",
      "('heading', 'network')\n",
      "('page', 'role of layers within the model')\n",
      "('section', 'key protocols and devices associated with layers in models')\n",
      "('page', 'user datagram protocol (UDP)')\n",
      "('page', 'difference between UDP and TCP')\n",
      "('page', 'compare packet architecture between TCP and UDP')\n",
      "('section', 'features of TCP/IP')\n",
      "('page', 'IPv4 vs IPv6')\n",
      "('page', 'IP Addressing')\n",
      "('page', 'Private vs public IP addressing')\n",
      "('page', 'subnet masks')\n",
      "('page', 'subnetting')\n",
      "('page', 'default gateways')\n",
      "('page', 'domain name system (DNS)')\n",
      "('page', 'ports')\n",
      "('page', 'packet architecture')\n",
      "('heading', 'data')\n",
      "('heading', 'segment')\n",
      "('heading', 'packet')\n",
      "('heading', 'frame')\n",
      "('heading', 'bits')\n",
      "('chapter', 'Models of networking - Skills')\n",
      "('section', 'identify, design and apply IP addressing scheme')\n",
      "('section', 'identify, design and apply subnet masks')\n",
      "('chapter', 'Network components - Knowledge')\n",
      "('section', 'role of components at different network layers')\n",
      "('page', 'transmission media')\n",
      "('page', 'router')\n",
      "('page', 'gateway')\n",
      "('page', 'switch')\n",
      "('page', 'wireless access point')\n",
      "('page', 'firewalls')\n",
      "('chapter', 'Network performance - Knowledge')\n",
      "('section', 'network design topology for security and performance')\n",
      "('section', 'bandwidth')\n",
      "('page', 'mapping networks using diagrams including intermediary and end devices')\n",
      "('page', 'subnetting and collision domains (segmentation)')\n",
      "('section', 'tools for network performance management and troubleshooting')\n",
      "('page', 'ping')\n",
      "('page', 'traceroute')\n",
      "('chapter', 'Network performance - Skills')\n",
      "('section', 'use ping and traceroute to troubleshoot and evaluate network performance')\n",
      "('section', 'interpret and create network diagrams using specified CISCO conventions to represent network topologies, considering addressing, subnets, segmentation, security and performance')\n",
      "('part', 'Unit 4 - Cyber security')\n",
      "('chapter', 'Ethics and Law - Knowledge')\n",
      "('section', 'the Privacy Act 1988 as it relates to data security Australian Privacy Principle 11 (APP11)')\n",
      "('section', 'the Privacy Amendment (Notifiable Data Breaches) Act 2017')\n",
      "('chapter', 'Ethics and Law - Skills')\n",
      "('section', 'apply theoretical ethics and law knowledge using supplied case studies')\n",
      "('chapter', 'Network threats - Knowledge')\n",
      "('section', 'external network threats')\n",
      "('page', 'social engineering (phishing)')\n",
      "('page', 'denial of service, including distributed denial of service')\n",
      "('page', 'back door')\n",
      "('page', 'IP spoofing')\n",
      "('page', 'SQL Injection')\n",
      "('page', 'man-in-the-middle')\n",
      "('page', 'cross-site scripting')\n",
      "('page', 'types of malware')\n",
      "('page', 'physical network threats')\n",
      "('page', 'zero day vulnerabilities')\n",
      "('section', 'internal network threats')\n",
      "('page', 'lost or stolen devices')\n",
      "('page', 'compromised credentials')\n",
      "('page', 'misuse by employees')\n",
      "('section', 'security solutions to network threats')\n",
      "('page', 'analysis of log files')\n",
      "('page', 'anti-malware')\n",
      "('page', 'firewall filtering')\n",
      "('page', 'access control lists')\n",
      "('page', 'intrusion prevention systems')\n",
      "('page', 'virtual private networks')\n",
      "('page', 'user training')\n",
      "('page', 'ICT code of conduct')\n",
      "('page', 'physical security')\n",
      "('section', 'appropriate solutions to different external network threats')\n",
      "('chapter', 'Network threats - Skills')\n",
      "('section', 'identify network security threats and suggest solutions for a given stimulus (mitigation strategies)')\n",
      "('chapter', 'Cryptography - Knowledge')\n",
      "('section', 'symmetric encryption')\n",
      "('section', 'asymmetric encryption (public/private keys)')\n",
      "('page', 'certificate purpose and use')\n",
      "('section', 'use of asymmetric encryption to:')\n",
      "('page', 'prevent unauthorised access to data')\n",
      "('page', 'authenticate data being sent across network')\n",
      "('section', 'secure communication over the internet')\n",
      "('page', 'use of asymmetric encryption to establish connection and symmetric encryption to exchange data')\n",
      "('section', 'common methods of encryption:')\n",
      "('page', 'early methods and weaknesses')\n",
      "('page', 'current best practice')\n",
      "('chapter', 'Ethical Hacking - Knowledge')\n",
      "('section', 'role of ethical hacking in improving network security')\n",
      "('section', 'penetration testing: role of blue team vs red team')\n",
      "('part', 'Unit 4 -Data Management')\n",
      "('chapter', 'Core concepts - Knowledge')\n",
      "('section', 'organisation of a relational database:')\n",
      "('page', 'entities')\n",
      "('page', 'attributes')\n",
      "('page', 'relationships')\n",
      "('heading', 'one-to-one')\n",
      "('heading', 'one-to-many')\n",
      "('heading', 'many-to-many')\n",
      "('page', 'tables as the implementation of entities, consisting of fields and records')\n",
      "('page', 'data types')\n",
      "('heading', 'integer')\n",
      "('heading', 'float')\n",
      "('heading', 'Boolean')\n",
      "('heading', 'text')\n",
      "('heading', 'date')\n",
      "('section', 'primary and foreign keys to link tables')\n",
      "('section', 'composite key')\n",
      "('section', 'data anomalies')\n",
      "('page', 'insert')\n",
      "('page', 'update')\n",
      "('page', 'delete')\n",
      "('section', 'how databases interact with other systems and link to the programming content')\n",
      "('page', 'open database connectivity')\n",
      "('section', 'role of ACID in database transactions – atomicity, consistency, isolation, durability')\n",
      "('chapter', 'Data modelling - Knowledge')\n",
      "('section', 'purpose of database documentation for the developers')\n",
      "('page', 'data dictionary')\n",
      "('page', 'entity relationship (ER) diagrams using crow’s foot notation')\n",
      "('chapter', 'Data modelling - Skills')\n",
      "('section', 'analyse ER diagrams written in crow’s foot notation (three to 10 tables)')\n",
      "('section', 'create accurate ER diagrams using crow’s foot notation (three to eight tables)')\n",
      "('section', 'represent databases using relational notation')\n",
      "('section', 'create data dictionaries')\n",
      "('section', 'resolve many to many (M:N) relationships')\n",
      "('chapter', 'Data integrity - Knowledge')\n",
      "('section', 'data integrity')\n",
      "('page', 'referential integrity')\n",
      "('page', 'domain integrity')\n",
      "('page', 'entity integrity')\n",
      "('section', 'factors influencing quality of data, including:')\n",
      "('page', 'currency')\n",
      "('page', 'authenticity')\n",
      "('page', 'relevance')\n",
      "('page', 'accuracy')\n",
      "('page', 'outliers (cleaning)')\n",
      "('chapter', 'Normalisation - Knowledge')\n",
      "('section', 'purpose of normalising data to third normal form (3NF)')\n",
      "('page', 'rules of 1NF')\n",
      "('page', 'rules of 2NF')\n",
      "('page', 'rules of 3NF')\n",
      "('section', 'know the process to normalise data to 3NF')\n",
      "('chapter', 'Normalisation - Skills')\n",
      "('section', 'apply the process to normalise data to 3NF using relational notation')\n",
      "('chapter', 'Database creation and manipulation - Knowledge')\n",
      "('section', 'know techniques to retrieve required information through querying data sets, including:')\n",
      "('page', 'searching, sorting and filtering to identify relationships and patterns')\n",
      "('page', 'cleaning and manipulating data sets to import required data into a database')\n",
      "('chapter', 'Database creation and manipulation - Skills')\n",
      "('section', 'use a relational database management system (RDBMS) to create and manipulate a relational database')\n",
      "('UNKNOWN', 'with a minimum of five tables.\\n')\n",
      "('section', 'use SQL to create, modify and manipulate a database including:')\n",
      "('page', 'CREATE and MODIFY tables, including:')\n",
      "('heading', 'use of constraints to ensure validity of data')\n",
      "('heading', 'enforcing referential integrity')\n",
      "('page', 'DROP')\n",
      "('page', 'SELECT')\n",
      "('page', 'INSERT')\n",
      "('page', 'UPDATE')\n",
      "('page', 'DELETE, including cascading deletes')\n",
      "('page', 'aggregate functions (COUNT, SUM, AVG, MAX, MIN)')\n",
      "('page', 'ORDER BY')\n",
      "('page', 'inner join across multiple tables (up to 4 tables)')\n",
      "('page', 'GROUP BY (with aggregate functions)')\n",
      "('page', 'calculated fields')\n",
      "('page', 'concatenated fields')\n",
      "('page', 'use of aliases with calculated and concatenated fields')\n",
      "('section', 'apply techniques to retrieve required information through querying data sets, including:')\n",
      "('page', 'searching, sorting and filtering to identify relationships and patterns')\n",
      "('page', 'cleaning and manipulating data sets to import required data into a database')\n",
      "('chapter', 'Development issues - Knowledge')\n",
      "('section', 'ethical issues')\n",
      "('page', 'collecting data about individuals')\n",
      "('page', 'privacy concerns')\n",
      "('page', 'appropriate use of data')\n",
      "('page', 'reliability of data sources')\n",
      "('page', 'acknowledgement of data sources')\n",
      "('page', 'use of data mining')\n",
      "('section', 'security issues')\n",
      "('page', 'keeping personal data private')\n",
      "('page', 'backups of organisational data')\n",
      "('page', 'restricting access to data')\n",
      "('page', 'ownership and control of data')\n",
      "('section', 'legal issues')\n",
      "('page', 'Australian privacy law in relation to database development')\n",
      "('page', 'Australian Privacy Principles (APP5, APP8, APP10, APP11, APP12)')\n",
      "('UNKNOWN', '\\n')\n"
     ]
    }
   ],
   "source": [
    "codes = []\n",
    "fn = \"y12-syllabus-abbrev-clean.txt\"\n",
    "with open(fn) as src:\n",
    "    for line in src:\n",
    "        t = label(line)\n",
    "        codes.append(t)\n",
    "        print(t)"
   ]
  },
  {
   "cell_type": "code",
   "execution_count": 122,
   "id": "ba2976cd-9b5e-4e80-bf5b-d03cdc88002f",
   "metadata": {},
   "outputs": [
    {
     "data": {
      "text/plain": [
       "389"
      ]
     },
     "execution_count": 122,
     "metadata": {},
     "output_type": "execute_result"
    }
   ],
   "source": [
    "len(codes)"
   ]
  },
  {
   "cell_type": "code",
   "execution_count": null,
   "id": "d195d381-14ca-49f6-9ffd-2170f85c4bd7",
   "metadata": {},
   "outputs": [],
   "source": []
  }
 ],
 "metadata": {
  "kernelspec": {
   "display_name": "Python 3 (ipykernel)",
   "language": "python",
   "name": "python3"
  },
  "language_info": {
   "codemirror_mode": {
    "name": "ipython",
    "version": 3
   },
   "file_extension": ".py",
   "mimetype": "text/x-python",
   "name": "python",
   "nbconvert_exporter": "python",
   "pygments_lexer": "ipython3",
   "version": "3.9.18"
  }
 },
 "nbformat": 4,
 "nbformat_minor": 5
}
