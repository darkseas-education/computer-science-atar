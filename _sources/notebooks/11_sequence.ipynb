{
 "cells": [
  {
   "cell_type": "markdown",
   "id": "70681516-747d-478c-9ebe-a620206b6675",
   "metadata": {},
   "source": [
    "# Sequence Notebook\n",
    "\n",
    "Doing things in order.\n",
    "\n",
    "Have a look at the three code cells below.\n",
    "\n",
    "We usually run a notebook cell-by-cell from top to bottom with the play icon or keys Shift-Enter.\n",
    "\n",
    "What will happen if you run the cell beginning `print('Welcome ...')`"
   ]
  },
  {
   "cell_type": "code",
   "execution_count": null,
   "id": "2ef01937-6222-4826-8f62-b8c5e742692a",
   "metadata": {},
   "outputs": [],
   "source": [
    "print(\"Welcome to Hogwarts, \", student_name)"
   ]
  },
  {
   "cell_type": "code",
   "execution_count": null,
   "id": "5ecc8a24-e593-4511-a94b-871650b56feb",
   "metadata": {
    "editable": true,
    "slideshow": {
     "slide_type": ""
    },
    "tags": []
   },
   "outputs": [],
   "source": [
    "student_name = \"Apprentice \" + name"
   ]
  },
  {
   "cell_type": "code",
   "execution_count": null,
   "id": "2635b0b5-bee8-4974-b7b7-27cb5cabc797",
   "metadata": {},
   "outputs": [],
   "source": [
    "name = input(\"What is your name? \")"
   ]
  },
  {
   "cell_type": "markdown",
   "id": "bbdb0c48-40a8-4461-9a7c-b1a0b9f552ad",
   "metadata": {},
   "source": [
    "You can reorder the cells by clicking the up and down arrows.\n",
    "\n",
    "You will find them on the right margin of the cell. ---->"
   ]
  },
  {
   "cell_type": "code",
   "execution_count": null,
   "id": "58ff9423-777c-4b87-ae79-ff7777e86fc3",
   "metadata": {},
   "outputs": [],
   "source": []
  }
 ],
 "metadata": {
  "kernelspec": {
   "display_name": "Python 3 (ipykernel)",
   "language": "python",
   "name": "python3"
  },
  "language_info": {
   "codemirror_mode": {
    "name": "ipython",
    "version": 3
   },
   "file_extension": ".py",
   "mimetype": "text/x-python",
   "name": "python",
   "nbconvert_exporter": "python",
   "pygments_lexer": "ipython3",
   "version": "3.9.18"
  }
 },
 "nbformat": 4,
 "nbformat_minor": 5
}
